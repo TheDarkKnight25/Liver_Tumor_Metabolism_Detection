{
 "cells": [
  {
   "cell_type": "markdown",
   "id": "4988d69d",
   "metadata": {},
   "source": [
    "#### Procrustes analysis \n",
    "Aims to align 2 sets of points (in other words, 2 shapes) to minimize square distance between them by removing scale, translation and rotation warp components."
   ]
  },
  {
   "cell_type": "code",
   "execution_count": 1,
   "id": "e9f2405a",
   "metadata": {},
   "outputs": [
    {
     "name": "stderr",
     "output_type": "stream",
     "text": [
      "<>:75: SyntaxWarning: \"is not\" with a literal. Did you mean \"!=\"?\n",
      "<>:75: SyntaxWarning: \"is not\" with a literal. Did you mean \"!=\"?\n",
      "C:\\Users\\vikra\\AppData\\Local\\Temp\\ipykernel_17144\\969204023.py:75: SyntaxWarning: \"is not\" with a literal. Did you mean \"!=\"?\n",
      "  if reflection is not 'best':\n"
     ]
    }
   ],
   "source": [
    "def procrustes(X, Y, scaling=True, reflection='best'):\n",
    "    \"\"\"\n",
    "    A port of MATLAB's `procrustes` function to Numpy.\n",
    "\n",
    "    Procrustes analysis determines a linear transformation (translation,\n",
    "    reflection, orthogonal rotation and scaling) of the points in Y to best\n",
    "    conform them to the points in matrix X, using the sum of squared errors\n",
    "    as the goodness of fit criterion.\n",
    "\n",
    "        d, Z, [tform] = procrustes(X, Y)\n",
    "\n",
    "    Inputs:\n",
    "    ------------\n",
    "    X, Y    \n",
    "        matrices of target and input coordinates. they must have equal\n",
    "        numbers of  points (rows), but Y may have fewer dimensions\n",
    "        (columns) than X.\n",
    "\n",
    "    scaling \n",
    "        if False, the scaling component of the transformation is forced\n",
    "        to 1\n",
    "\n",
    "    reflection\n",
    "        if 'best' (default), the transformation solution may or may not\n",
    "        include a reflection component, depending on which fits the data\n",
    "        best. setting reflection to True or False forces a solution with\n",
    "        reflection or no reflection respectively.\n",
    "\n",
    "    Outputs\n",
    "    ------------\n",
    "    d       \n",
    "        the residual sum of squared errors, normalized according to a\n",
    "        measure of the scale of X, ((X - X.mean(0))**2).sum()\n",
    "\n",
    "    Z\n",
    "        the matrix of transformed Y-values\n",
    "\n",
    "    tform   \n",
    "        a dict specifying the rotation, translation and scaling that\n",
    "        maps X --> Y\n",
    "\n",
    "    \"\"\"\n",
    "\n",
    "    n,m = X.shape\n",
    "    ny,my = Y.shape\n",
    "\n",
    "    muX = X.mean(0)\n",
    "    muY = Y.mean(0)\n",
    "\n",
    "    X0 = X - muX\n",
    "    Y0 = Y - muY\n",
    "\n",
    "    ssX = (X0**2.).sum()\n",
    "    ssY = (Y0**2.).sum()\n",
    "    print(ssX)\n",
    "    print(ssY)\n",
    "\n",
    "    # centred Frobenius norm\n",
    "    normX = np.sqrt(ssX)\n",
    "    normY = np.sqrt(ssY)\n",
    "\n",
    "    # scale to equal (unit) norm\n",
    "    X0 /= normX\n",
    "    Y0 /= normY\n",
    "\n",
    "    if my < m:\n",
    "        Y0 = np.concatenate((Y0, np.zeros(n, m-my)),0)\n",
    "\n",
    "    # optimum rotation matrix of Y\n",
    "    A = np.dot(X0.T, Y0)\n",
    "    U,s,Vt = np.linalg.svd(A,full_matrices=False)\n",
    "    V = Vt.T\n",
    "    T = np.dot(V, U.T)\n",
    "\n",
    "    if reflection is not 'best':\n",
    "\n",
    "        # does the current solution use a reflection?\n",
    "        have_reflection = np.linalg.det(T) < 0\n",
    "\n",
    "        # if that's not what was specified, force another reflection\n",
    "        if reflection != have_reflection:\n",
    "            V[:,-1] *= -1\n",
    "            s[-1] *= -1\n",
    "            T = np.dot(V, U.T)\n",
    "\n",
    "    traceTA = s.sum()\n",
    "\n",
    "    if scaling:\n",
    "\n",
    "        # optimum scaling of Y\n",
    "        b = traceTA * normX / normY\n",
    "\n",
    "        # standarised distance between X and b*Y*T + c\n",
    "        d = 1 - traceTA**2\n",
    "        # transformed coords\n",
    "        Z = normX*traceTA*np.dot(Y0, T) + muX\n",
    "\n",
    "    else:\n",
    "        b = 1\n",
    "        d = 1 + ssY/ssX - 2 * traceTA * normY / normX\n",
    "        Z = normY*np.dot(Y0, T) + muX\n",
    "\n",
    "    # transformation matrix\n",
    "    if my < m:\n",
    "        T = T[:my,:]\n",
    "    c = muX - b*np.dot(muY, T)\n",
    "    #rot =1\n",
    "    #scale=2\n",
    "    #translate=3\n",
    "    #transformation values \n",
    "    tform = {'rotation':T, 'scale':b, 'translation':c}\n",
    "\n",
    "    return d, Z, tform"
   ]
  },
  {
   "cell_type": "code",
   "execution_count": 2,
   "id": "9952c6e6",
   "metadata": {
    "scrolled": true
   },
   "outputs": [],
   "source": [
    "#!pip install imageio scipy"
   ]
  },
  {
   "cell_type": "code",
   "execution_count": 17,
   "id": "98d07a63",
   "metadata": {},
   "outputs": [],
   "source": [
    "import DicomPipeLine \n",
    "import cv2\n",
    "import numpy as np \n",
    "import matplotlib.pyplot as plt\n",
    "import matplotlib.cm as cm \n",
    "import imageio\n",
    "import scipy.ndimage as ndi \n",
    "\n",
    "import time\n",
    "import numpy as np\n",
    "import sys\n",
    "np.set_printoptions(threshold=sys.maxsize)\n",
    "from skimage.transform import resize\n",
    "\n",
    "def normalize(img_array):\n",
    "    return cv2.normalize(img_array, dst=None, alpha=0, beta=65535, norm_type=cv2.NORM_MINMAX)"
   ]
  },
  {
   "cell_type": "code",
   "execution_count": 4,
   "id": "aa12d65d",
   "metadata": {},
   "outputs": [],
   "source": [
    "main_data_source_path = r'C:\\Users\\vikra\\Codes\\Tumor_Codes\\Final_Project_git\\Liver tumor'"
   ]
  },
  {
   "cell_type": "code",
   "execution_count": 5,
   "id": "b8f94120",
   "metadata": {},
   "outputs": [],
   "source": [
    "preprocessed_data_path = r'C:\\Users\\vikra\\Codes\\Tumor_Codes\\Final_Project_git\\Preprocessed'"
   ]
  },
  {
   "cell_type": "code",
   "execution_count": 6,
   "id": "23a022b2",
   "metadata": {},
   "outputs": [],
   "source": [
    "sub_folders_to_scan_for = ['2','3','4','5']"
   ]
  },
  {
   "cell_type": "code",
   "execution_count": 7,
   "id": "741bf9d6",
   "metadata": {},
   "outputs": [
    {
     "name": "stderr",
     "output_type": "stream",
     "text": [
      "100%|██████████████████████████████████████████████████████████████████████████████████| 2/2 [00:00<00:00, 1004.02it/s]"
     ]
    },
    {
     "name": "stdout",
     "output_type": "stream",
     "text": [
      "- Found 2 folders with a total of 8 scans\n"
     ]
    },
    {
     "name": "stderr",
     "output_type": "stream",
     "text": [
      "\n"
     ]
    }
   ],
   "source": [
    "path_obj = DicomPipeLine.Path_Settings(main_data_source_path, preprocessed_data_path, sub_folders_to_scan_for)"
   ]
  },
  {
   "cell_type": "code",
   "execution_count": 8,
   "id": "0ff7eb13",
   "metadata": {},
   "outputs": [
    {
     "name": "stderr",
     "output_type": "stream",
     "text": [
      "100%|██████████████████████████████████████████████████████████████████████████████████| 2/2 [00:00<00:00, 2009.73it/s]"
     ]
    },
    {
     "name": "stdout",
     "output_type": "stream",
     "text": [
      "- Found 2 folders with a total of 8 scans\n"
     ]
    },
    {
     "name": "stderr",
     "output_type": "stream",
     "text": [
      "\n"
     ]
    }
   ],
   "source": [
    "path_obj.Refresh()"
   ]
  },
  {
   "cell_type": "code",
   "execution_count": 9,
   "id": "69d40cb1",
   "metadata": {},
   "outputs": [],
   "source": [
    "streamer = DicomPipeLine.Stream_Data(path_obj)"
   ]
  },
  {
   "cell_type": "code",
   "execution_count": 18,
   "id": "a980218c",
   "metadata": {},
   "outputs": [
    {
     "name": "stdout",
     "output_type": "stream",
     "text": [
      "C:\\Users\\vikra\\Codes\\Tumor_Codes\\Final_Project_git\\Preprocessed\\1\\CT PLAIN.pickle.gzip\n"
     ]
    }
   ],
   "source": [
    "ct = streamer.get('1', 'CT PLAIN')[295]\n",
    "ct = normalize(ct)"
   ]
  },
  {
   "cell_type": "code",
   "execution_count": null,
   "id": "ac88afc9",
   "metadata": {},
   "outputs": [],
   "source": [
    "ct_points=[]"
   ]
  },
  {
   "cell_type": "code",
   "execution_count": 48,
   "id": "a890ea1c",
   "metadata": {},
   "outputs": [],
   "source": [
    "mri_points=[]"
   ]
  },
  {
   "cell_type": "markdown",
   "id": "ba760157",
   "metadata": {},
   "source": [
    "Specify the number of points"
   ]
  },
  {
   "cell_type": "code",
   "execution_count": 43,
   "id": "3c0dc933",
   "metadata": {},
   "outputs": [],
   "source": [
    "n=5"
   ]
  },
  {
   "cell_type": "code",
   "execution_count": 44,
   "id": "98aa7576",
   "metadata": {},
   "outputs": [],
   "source": [
    "# Define Click Function\n",
    "def click_event_ct(event, x, y, flags, param):\n",
    "    if event == cv2.EVENT_LBUTTONDOWN:\n",
    "        print(x,y)\n",
    "        ct_points.append([x,y])"
   ]
  },
  {
   "cell_type": "code",
   "execution_count": 45,
   "id": "e58a8540",
   "metadata": {},
   "outputs": [
    {
     "name": "stdout",
     "output_type": "stream",
     "text": [
      "276 137\n",
      "287 375\n",
      "113 249\n",
      "439 242\n",
      "281 268\n"
     ]
    },
    {
     "data": {
      "text/plain": [
       "[[276, 137], [287, 375], [113, 249], [439, 242], [281, 268]]"
      ]
     },
     "execution_count": 45,
     "metadata": {},
     "output_type": "execute_result"
    }
   ],
   "source": [
    "cv2.namedWindow('Image CT',cv2.WINDOW_NORMAL)\n",
    "cv2.resizeWindow('Image CT', 600,600)\n",
    "\n",
    "cv2.imshow('Image CT', ct)\n",
    "\n",
    "cv2.setMouseCallback('Image CT', click_event_ct)\n",
    "\n",
    "cv2.waitKey(0)#press any key to close all windows\n",
    "cv2.destroyAllWindows()\n",
    "\n",
    "ct_points"
   ]
  },
  {
   "cell_type": "code",
   "execution_count": 46,
   "id": "a5000304",
   "metadata": {},
   "outputs": [],
   "source": [
    "# Define Click Function\n",
    "def click_event_mri(event, x, y, flags, param):\n",
    "    if event == cv2.EVENT_LBUTTONDOWN:\n",
    "        print(x,y)\n",
    "        mri_points.append([x,y])"
   ]
  },
  {
   "cell_type": "code",
   "execution_count": null,
   "id": "b58d94af",
   "metadata": {},
   "outputs": [],
   "source": [
    "cv2.namedWindow('Image MRI',cv2.WINDOW_NORMAL)\n",
    "cv2.resizeWindow('Image MRI', 600,600)\n",
    "\n",
    "mri_registered = streamer.get('1', 'PET WB  (AC)')[295]\n",
    "mri_registered = normalize(mri_registered)\n",
    "#mri_registered = np.invert(mri_registered)\n",
    "\n",
    "cv2.imshow('Image MRI', mri_registered)\n",
    "\n",
    "cv2.setMouseCallback('Image MRI', click_event_mri)\n",
    "\n",
    "cv2.waitKey(0)#press any key to close all windows\n",
    "cv2.destroyAllWindows()\n",
    "\n",
    "mri_points"
   ]
  },
  {
   "cell_type": "markdown",
   "id": "78507f97",
   "metadata": {},
   "source": [
    "#### Specifying the co-ordinates"
   ]
  },
  {
   "cell_type": "code",
   "execution_count": 50,
   "id": "fa943ed5",
   "metadata": {},
   "outputs": [
    {
     "name": "stdout",
     "output_type": "stream",
     "text": [
      "[[276 137]\n",
      " [287 375]\n",
      " [113 249]\n",
      " [439 242]\n",
      " [281 268]]\n"
     ]
    }
   ],
   "source": [
    "X_pts = np.asarray(ct_points)\n",
    "Y_pts = np.asarray(mri_points)\n",
    "print(X_pts)"
   ]
  },
  {
   "cell_type": "code",
   "execution_count": 51,
   "id": "95b36f9b",
   "metadata": {},
   "outputs": [
    {
     "name": "stdout",
     "output_type": "stream",
     "text": [
      "81927.6\n",
      "4808.0\n"
     ]
    }
   ],
   "source": [
    "d,Z_pts,Tform = procrustes(X_pts,Y_pts)"
   ]
  },
  {
   "cell_type": "code",
   "execution_count": 52,
   "id": "a03f0672",
   "metadata": {},
   "outputs": [],
   "source": [
    "R = np.eye(3)"
   ]
  },
  {
   "cell_type": "code",
   "execution_count": 53,
   "id": "4d25ad93",
   "metadata": {},
   "outputs": [
    {
     "data": {
      "text/plain": [
       "{'rotation': array([[ 9.99999996e-01, -9.09394037e-05],\n",
       "        [ 9.09394037e-05,  9.99999996e-01]]),\n",
       " 'scale': 4.116763744144232,\n",
       " 'translation': array([ -92.16518303, -109.68814476])}"
      ]
     },
     "execution_count": 53,
     "metadata": {},
     "output_type": "execute_result"
    }
   ],
   "source": [
    "Tform"
   ]
  },
  {
   "cell_type": "code",
   "execution_count": 54,
   "id": "2a24d054",
   "metadata": {},
   "outputs": [],
   "source": [
    "R[0:2,0:2] = Tform['rotation']"
   ]
  },
  {
   "cell_type": "code",
   "execution_count": 59,
   "id": "7ff40305",
   "metadata": {},
   "outputs": [
    {
     "data": {
      "text/plain": [
       "True"
      ]
     },
     "execution_count": 59,
     "metadata": {},
     "output_type": "execute_result"
    }
   ],
   "source": [
    "S = np.eye(3) * Tform['scale'] \n",
    "S[2,2] = 1\n",
    "t = np.eye(3)\n",
    "t[0:2,2] = Tform['translation']\n",
    "M = np.dot(np.dot(R,S),t.T).T\n",
    "h=ct.shape[0]\n",
    "w=ct.shape[1]\n",
    "tr_Y_img = cv2.warpAffine(mri_registered,M[0:2,:],(h,w))\n",
    "tr_Y_img_1 = np.invert(tr_Y_img)\n",
    "cv2.imwrite(r\"C:\\Users\\vikra\\Codes\\Tumor_Codes\\Final_Project_git\\Liver_Tumor_Metabolism_Detection\\Registered\\mri_registered_1.png\", tr_Y_img_1) "
   ]
  },
  {
   "cell_type": "code",
   "execution_count": 56,
   "id": "f432bb70",
   "metadata": {},
   "outputs": [],
   "source": [
    "aY_pts = np.hstack((Y_pts,np.array(([[1,1,1,1,1]])).T))\n",
    "tr_Y_pts = np.dot(M,aY_pts.T).T"
   ]
  },
  {
   "cell_type": "code",
   "execution_count": 57,
   "id": "4227e5e6",
   "metadata": {},
   "outputs": [
    {
     "data": {
      "image/png": "[encoded data removed]",
      "text/plain": [
       "<Figure size 432x288 with 2 Axes>"
      ]
     },
     "metadata": {
      "needs_background": "light"
     },
     "output_type": "display_data"
    }
   ],
   "source": [
    "plt.figure() \n",
    "plt.subplot(1,3,1)\n",
    "plt.imshow(ct,cmap=cm.gray)\n",
    "plt.plot(X_pts[:,0],X_pts[:,1],'bo',markersize=5)\n",
    "# plt.axis('off')\n",
    "# plt.subplot(1,3,2)\n",
    "# plt.imshow(mri_registered,cmap=cm.gray)\n",
    "# plt.plot(Y_pts[:,0],Y_pts[:,1],'ro',markersize=5)\n",
    "# plt.axis('off')\n",
    "plt.subplot(1,3,3)\n",
    "# plt.imshow(ct_fixed,cmap=cm.gray)\n",
    "plt.imshow(tr_Y_img,cmap=cm.gray)\n",
    "# plt.plot(X_pts[:,0],X_pts[:,1],'bo',markersize=5) \n",
    "# plt.plot(Z_pts[:,0],Z_pts[:,1],'ro',markersize=5)\n",
    "plt.plot(tr_Y_pts[:,0],tr_Y_pts[:,1],'gx',markersize=5)\n",
    "# plt.axis('off')\n",
    "plt.show()"
   ]
  },
  {
   "cell_type": "code",
   "execution_count": null,
   "id": "03d99738",
   "metadata": {},
   "outputs": [],
   "source": []
  },
  {
   "cell_type": "code",
   "execution_count": null,
   "id": "0e7b327d",
   "metadata": {},
   "outputs": [],
   "source": []
  }
 ],
 "metadata": {
  "kernelspec": {
   "display_name": "Python (final_proj)",
   "language": "python",
   "name": "final_proj"
  },
  "language_info": {
   "codemirror_mode": {
    "name": "ipython",
    "version": 3
   },
   "file_extension": ".py",
   "mimetype": "text/x-python",
   "name": "python",
   "nbconvert_exporter": "python",
   "pygments_lexer": "ipython3",
   "version": "3.10.4"
  }
 },
 "nbformat": 4,
 "nbformat_minor": 5
}
