{
 "cells": [
  {
   "cell_type": "code",
   "execution_count": 1,
   "id": "4ecc8a83",
   "metadata": {},
   "outputs": [],
   "source": [
    "# pip install pydicom\n",
    "# pip install numpy\n",
    "# pip install matplotlib\n",
    "# pip install opencv-python\n",
    "# pip install tqdm\n",
    "# pip install pandas\n",
    "# pip install glob2\n",
    "# pip install pylibjpeg\n",
    "# pip install pylibjpeg-libjpeg==1.3.1"
   ]
  },
  {
   "cell_type": "code",
   "execution_count": 2,
   "id": "98d07a63",
   "metadata": {},
   "outputs": [],
   "source": [
    "import DicomPipeLine \n",
    "import cv2"
   ]
  },
  {
   "cell_type": "code",
   "execution_count": 3,
   "id": "aa12d65d",
   "metadata": {},
   "outputs": [],
   "source": [
    "main_data_source_path = r'C:\\Users\\vikra\\Codes\\Tumor_Codes\\Final_Project_git\\Liver tumor'"
   ]
  },
  {
   "cell_type": "code",
   "execution_count": 4,
   "id": "b8f94120",
   "metadata": {},
   "outputs": [],
   "source": [
    "preprocessed_data_path = r'C:\\Users\\vikra\\Codes\\Tumor_Codes\\Final_Project_git\\Preprocessed'"
   ]
  },
  {
   "cell_type": "code",
   "execution_count": 5,
   "id": "23a022b2",
   "metadata": {},
   "outputs": [],
   "source": [
    "sub_folders_to_scan_for = ['2','3','4','5']"
   ]
  },
  {
   "cell_type": "code",
   "execution_count": 6,
   "id": "4c32c2b7",
   "metadata": {},
   "outputs": [
    {
     "name": "stderr",
     "output_type": "stream",
     "text": [
      "100%|██████████████████████████████████████████████████████████████████████████████████| 2/2 [00:00<00:00, 2004.45it/s]"
     ]
    },
    {
     "name": "stdout",
     "output_type": "stream",
     "text": [
      "- Found 2 folders with a total of 8 scans\n"
     ]
    },
    {
     "name": "stderr",
     "output_type": "stream",
     "text": [
      "\n"
     ]
    }
   ],
   "source": [
    "path_obj = DicomPipeLine.Path_Settings(main_data_source_path, preprocessed_data_path, sub_folders_to_scan_for)"
   ]
  },
  {
   "cell_type": "code",
   "execution_count": 7,
   "id": "f4b5ce28",
   "metadata": {},
   "outputs": [],
   "source": [
    "# these are the attributes to extract from each patient\n",
    "dcm_attributes_level_0 = [\n",
    "    'PatientName',\n",
    "    'PatientBirthDate',\n",
    "    'PatientSex',\n",
    "    'PatientSize',\n",
    "    'PatientWeight',\n",
    "    'StudyDate', \n",
    "    'StudyTime',\n",
    "    'InstitutionAddress', \n",
    "    'InstitutionName',\n",
    "    'Manufacturer', \n",
    "    'ManufacturerModelName'\n",
    "]\n",
    "\n",
    "# these are the attributes to extract from each scan per patient\n",
    "dcm_attributes_level_1 = [\n",
    "    'AcquisitionDate', \n",
    "    'AcquisitionTime', \n",
    "    'PatientPosition',\n",
    "    'SeriesDescription',\n",
    "    'SeriesDate',\n",
    "    'SeriesTime'\n",
    "]\n",
    "\n",
    "# these are the attributes to extract from each frame per scan \n",
    "dcm_attributes_level_2 = [\n",
    "    'Rows',\n",
    "    'Columns',\n",
    "    'InstanceNumber',\n",
    "    'PixelSpacing',\n",
    "    'ImagePositionPatient',\n",
    "    'ImageOrientationPatient',\n",
    "    'SliceLocation',\n",
    "    'SliceThickness'\n",
    "]\n",
    "\n",
    "# specify all 3 levels of attributes in a array\n",
    "dcm_attributes = [dcm_attributes_level_0, dcm_attributes_level_1, dcm_attributes_level_2]\n"
   ]
  },
  {
   "cell_type": "code",
   "execution_count": 8,
   "id": "89660511",
   "metadata": {},
   "outputs": [],
   "source": [
    "dcm_to_numpy_obj = DicomPipeLine.DCM_Input_To_NPY_Output(path_obj, dcm_attributes)"
   ]
  },
  {
   "cell_type": "code",
   "execution_count": 9,
   "id": "5c7c2908",
   "metadata": {
    "scrolled": true
   },
   "outputs": [
    {
     "name": "stderr",
     "output_type": "stream",
     "text": [
      "100%|██████████████████████████████████████████████████████████████████████████████████| 2/2 [00:00<00:00, 2006.36it/s]"
     ]
    },
    {
     "name": "stdout",
     "output_type": "stream",
     "text": [
      "- Found 2 folders with a total of 8 scans\n"
     ]
    },
    {
     "name": "stderr",
     "output_type": "stream",
     "text": [
      "\n"
     ]
    }
   ],
   "source": [
    "path_obj.Refresh()"
   ]
  },
  {
   "cell_type": "code",
   "execution_count": 16,
   "id": "ac6ca3f2",
   "metadata": {},
   "outputs": [
    {
     "name": "stdout",
     "output_type": "stream",
     "text": [
      "- specified number of folders 2 exceeds total folders 0\n",
      "- Hence processing only one folder\n"
     ]
    },
    {
     "ename": "IndexError",
     "evalue": "pop from empty list",
     "output_type": "error",
     "traceback": [
      "\u001b[1;31m---------------------------------------------------------------------------\u001b[0m",
      "\u001b[1;31mIndexError\u001b[0m                                Traceback (most recent call last)",
      "Input \u001b[1;32mIn [16]\u001b[0m, in \u001b[0;36m<cell line: 1>\u001b[1;34m()\u001b[0m\n\u001b[1;32m----> 1\u001b[0m \u001b[43mdcm_to_numpy_obj\u001b[49m\u001b[38;5;241;43m.\u001b[39;49m\u001b[43miterate\u001b[49m\u001b[43m(\u001b[49m\u001b[38;5;241;43m2\u001b[39;49m\u001b[43m)\u001b[49m\n",
      "File \u001b[1;32m~\\Codes\\Tumor_Codes\\Final_Project_git\\Liver_Tumor_Metabolism_Detection\\DicomPipeLine.py:188\u001b[0m, in \u001b[0;36mDCM_Input_To_NPY_Output.iterate\u001b[1;34m(self, number_of_source_folders)\u001b[0m\n\u001b[0;32m    184\u001b[0m iteration_count \u001b[38;5;241m=\u001b[39m number_of_source_folders\n\u001b[0;32m    186\u001b[0m \u001b[38;5;28;01mwhile\u001b[39;00m iteration_count \u001b[38;5;241m>\u001b[39m \u001b[38;5;241m0\u001b[39m:\n\u001b[1;32m--> 188\u001b[0m     source_folder, target_folder \u001b[38;5;241m=\u001b[39m \u001b[38;5;28;43mself\u001b[39;49m\u001b[38;5;241;43m.\u001b[39;49m\u001b[43mpath_settings_obj\u001b[49m\u001b[38;5;241;43m.\u001b[39;49m\u001b[43mpop\u001b[49m\u001b[43m(\u001b[49m\u001b[43m)\u001b[49m\n\u001b[0;32m    190\u001b[0m     \u001b[38;5;28;01mtry\u001b[39;00m:\n\u001b[0;32m    191\u001b[0m         \u001b[38;5;28mprint\u001b[39m(\u001b[38;5;124mf\u001b[39m\u001b[38;5;124m'\u001b[39m\u001b[38;5;124m- processing folder \u001b[39m\u001b[38;5;132;01m{\u001b[39;00msource_folder[\u001b[38;5;241m0\u001b[39m]\u001b[38;5;241m.\u001b[39mpath\u001b[38;5;132;01m}\u001b[39;00m\u001b[38;5;124m'\u001b[39m)\n",
      "File \u001b[1;32m~\\Codes\\Tumor_Codes\\Final_Project_git\\Liver_Tumor_Metabolism_Detection\\DicomPipeLine.py:61\u001b[0m, in \u001b[0;36mPath_Settings.pop\u001b[1;34m(self)\u001b[0m\n\u001b[0;32m     59\u001b[0m \u001b[38;5;28;01mdef\u001b[39;00m \u001b[38;5;21mpop\u001b[39m(\u001b[38;5;28mself\u001b[39m):\n\u001b[1;32m---> 61\u001b[0m     source_folder \u001b[38;5;241m=\u001b[39m \u001b[38;5;28;43mself\u001b[39;49m\u001b[38;5;241;43m.\u001b[39;49m\u001b[43msource_folders\u001b[49m\u001b[38;5;241;43m.\u001b[39;49m\u001b[43mpop\u001b[49m\u001b[43m(\u001b[49m\u001b[38;5;241;43m0\u001b[39;49m\u001b[43m)\u001b[49m\n\u001b[0;32m     62\u001b[0m     \u001b[38;5;28mself\u001b[39m\u001b[38;5;241m.\u001b[39mprocessed_source_folders\u001b[38;5;241m.\u001b[39mappend(source_folder[\u001b[38;5;241m0\u001b[39m]\u001b[38;5;241m.\u001b[39mname)\n\u001b[0;32m     63\u001b[0m     \u001b[38;5;28;01mif\u001b[39;00m \u001b[38;5;28mlen\u001b[39m(\u001b[38;5;28mself\u001b[39m\u001b[38;5;241m.\u001b[39mexpected_serialization) \u001b[38;5;241m!=\u001b[39m \u001b[38;5;241m0\u001b[39m:\n",
      "\u001b[1;31mIndexError\u001b[0m: pop from empty list"
     ]
    }
   ],
   "source": [
    "dcm_to_numpy_obj.iterate(2)"
   ]
  },
  {
   "cell_type": "code",
   "execution_count": 15,
   "id": "a36b817c",
   "metadata": {},
   "outputs": [],
   "source": [
    "streamer = DicomPipeLine.Stream_Data(path_obj)"
   ]
  },
  {
   "cell_type": "code",
   "execution_count": 16,
   "id": "c2fe4dee",
   "metadata": {},
   "outputs": [],
   "source": [
    "import time\n",
    "import numpy as np\n",
    "import sys\n",
    "np.set_printoptions(threshold=sys.maxsize)\n",
    "from skimage.transform import resize\n",
    "\n",
    "def normalize(img_array):\n",
    "    return cv2.normalize(img_array, dst=None, alpha=0, beta=65535, norm_type=cv2.NORM_MINMAX)"
   ]
  },
  {
   "cell_type": "code",
   "execution_count": null,
   "id": "107be68c",
   "metadata": {
    "scrolled": true
   },
   "outputs": [],
   "source": [
    "streamer.get('1', 'CT PLAIN')[295]"
   ]
  },
  {
   "cell_type": "code",
   "execution_count": null,
   "id": "6aed89a0",
   "metadata": {},
   "outputs": [],
   "source": [
    "cv2.namedWindow('fused',cv2.WINDOW_NORMAL)\n",
    "cv2.resizeWindow('fused', 600,600)\n",
    "\n",
    "for ct_frame, pt_frame in zip(streamer.iter('1', 'CT PLAIN'), streamer.iter('1', 'PET WB  (AC)')):\n",
    "    \n",
    "    ct_frame = normalize(ct_frame)\n",
    "    ct_frame = cv2.resize(ct_frame, pt_frame.shape)\n",
    "    pt_frame = normalize(pt_frame)\n",
    "    \n",
    "#     cv2.imshow('CT Image', np.invert(ct_frame))\n",
    "#     cv2.imshow('PET Image', pt_frame)\n",
    "    \n",
    "    fused = (normalize(ct_frame + pt_frame))\n",
    "\n",
    "    \n",
    "#     PT_FRAME = INVERT(PT_FRAME)\n",
    "    \n",
    "#     CT_FRAME = CHANGE_HUE(CT_FRAME, HUE_VALUE)\n",
    "#     CT_FRAME = INTENSITY(CT_FRAME, INT_VALUE)\n",
    "    \n",
    "#     PT_FRAME, CT_FRAME = NORMALIZE(PT_FRAME, CT_FRAME)\n",
    "    \n",
    "#     FUSED_FRAME = FUSION(PT_FRAME , CT_FRAME)\n",
    "    \n",
    "    fused = resize(ct_frame, (600, 600), anti_aliasing=True)\n",
    "    \n",
    "    cv2.imshow('fused', fused)\n",
    "    \n",
    "    time.sleep(.1)\n",
    "    cv2.waitKey(4)\n",
    "\n",
    "cv2.destroyAllWindows()"
   ]
  },
  {
   "cell_type": "code",
   "execution_count": null,
   "id": "673ed5d1",
   "metadata": {},
   "outputs": [],
   "source": []
  },
  {
   "cell_type": "code",
   "execution_count": null,
   "id": "a0d14289",
   "metadata": {},
   "outputs": [],
   "source": []
  },
  {
   "cell_type": "code",
   "execution_count": null,
   "id": "96dd1633",
   "metadata": {},
   "outputs": [],
   "source": []
  },
  {
   "cell_type": "code",
   "execution_count": null,
   "id": "4415d937",
   "metadata": {},
   "outputs": [],
   "source": []
  },
  {
   "cell_type": "markdown",
   "id": "4a548f30",
   "metadata": {},
   "source": [
    "# PLOTTING"
   ]
  },
  {
   "cell_type": "code",
   "execution_count": 17,
   "id": "a91bf670",
   "metadata": {},
   "outputs": [],
   "source": [
    "import matplotlib.pyplot as plt\n",
    "import pydicom as pd"
   ]
  },
  {
   "cell_type": "code",
   "execution_count": 57,
   "id": "60f4b04f",
   "metadata": {},
   "outputs": [
    {
     "data": {
      "text/plain": [
       "array([    0,     0,     0,     0,     0,     0,     0,     1,    11,\n",
       "          20,    47,    27,    13,    17,    14,    19,    15,     8,\n",
       "           4,     4,     7,    23,    38,    34,    15,    23,    37,\n",
       "          31,    28,    10,     1,     0,     0,     1,     8,    25,\n",
       "          41,    38,    46,    26,    20,    23,    28,    11,    11,\n",
       "           7,     9,    12,    29,    21,    86,   136,   397,   406,\n",
       "         678,  1341,  1556,  3367,  9207, 15372, 16427, 17863, 18118,\n",
       "       17762, 20952, 23812, 23719, 22567, 21524, 20914, 22343, 21666,\n",
       "       19345, 21734, 21746, 20202, 18810, 22773, 15451,  7006,  6811,\n",
       "        4002,  3049,  5202,  5628,  3683,  2347,  5208,  5251,  3722,\n",
       "        3623,  3325,  3127,  3026,  3571,  2272,  1708,  2248,  2986,\n",
       "        3077,  2422,  3334,  4524,  3292,  2287,  1801,  2327,  2805,\n",
       "        3723,  2292,  1844,  2523,  3521,  5263,  6273,  6725,  5111,\n",
       "        4677,  2835,  1145,   904,  1481,  1121,   797,   743,   870,\n",
       "         418,    87,    32,    46,    23,    73,    39,    42,    29,\n",
       "          32,    46,    14,    14,    10,     8,     2,     3,     8,\n",
       "          21,    48,    19,    13,    20,    12,    14,    15,    21,\n",
       "          14,    17,    13,    54,    69,   109,    45,    11,     0,\n",
       "           0,     0,     0,     0,     0,     0], dtype=uint16)"
      ]
     },
     "execution_count": 57,
     "metadata": {},
     "output_type": "execute_result"
    }
   ],
   "source": [
    "#cv2.namedWindow('Image MRI',cv2.WINDOW_NORMAL)\n",
    "#cv2.resizeWindow('Image MRI', 600,600)\n",
    "\n",
    "obj = pd.read_file('363.dcm')\n",
    "og_pet = obj.pixel_array\n",
    "og_pet[84]\n",
    "\n",
    "\n",
    "# print(mri_registered.shape)"
   ]
  },
  {
   "cell_type": "code",
   "execution_count": 58,
   "id": "0a25fac7",
   "metadata": {},
   "outputs": [
    {
     "data": {
      "text/plain": [
       "<Figure size 1080x1080 with 0 Axes>"
      ]
     },
     "metadata": {},
     "output_type": "display_data"
    }
   ],
   "source": [
    "plt.figure(figsize=(15,15))\n",
    "og_pet = np.invert(og_pet)\n",
    "# plt.imshow(og_pet, cmap='gray')"
   ]
  },
  {
   "cell_type": "code",
   "execution_count": 59,
   "id": "6a6e4a83",
   "metadata": {},
   "outputs": [
    {
     "name": "stdout",
     "output_type": "stream",
     "text": [
      "C:\\Users\\vikra\\Codes\\Tumor_Codes\\Final_Project_git\\Preprocessed\\1\\PET WB  (AC).pickle.gzip\n"
     ]
    },
    {
     "data": {
      "text/plain": [
       "array([    0,     0,     0,     0,     0,     0,     0,     1,    11,\n",
       "          20,    47,    27,    13,    17,    14,    19,    15,     8,\n",
       "           4,     4,     7,    23,    38,    34,    15,    23,    37,\n",
       "          31,    28,    10,     1,     0,     0,     1,     8,    25,\n",
       "          41,    38,    46,    26,    20,    23,    28,    11,    11,\n",
       "           7,     9,    12,    29,    21,    86,   136,   397,   406,\n",
       "         678,  1341,  1556,  3367,  9207, 15372, 16427, 17863, 18118,\n",
       "       17762, 20952, 23812, 23719, 22567, 21524, 20914, 22343, 21666,\n",
       "       19345, 21734, 21746, 20202, 18810, 22773, 15451,  7006,  6811,\n",
       "        4002,  3049,  5202,  5628,  3683,  2347,  5208,  5251,  3722,\n",
       "        3623,  3325,  3127,  3026,  3571,  2272,  1708,  2248,  2986,\n",
       "        3077,  2422,  3334,  4524,  3292,  2287,  1801,  2327,  2805,\n",
       "        3723,  2292,  1844,  2523,  3521,  5263,  6273,  6725,  5111,\n",
       "        4677,  2835,  1145,   904,  1481,  1121,   797,   743,   870,\n",
       "         418,    87,    32,    46,    23,    73,    39,    42,    29,\n",
       "          32,    46,    14,    14,    10,     8,     2,     3,     8,\n",
       "          21,    48,    19,    13,    20,    12,    14,    15,    21,\n",
       "          14,    17,    13,    54,    69,   109,    45,    11,     0,\n",
       "           0,     0,     0,     0,     0,     0], dtype=uint16)"
      ]
     },
     "execution_count": 59,
     "metadata": {},
     "output_type": "execute_result"
    }
   ],
   "source": [
    "mri_registered = streamer.get('1', 'PET WB  (AC)')[362]                \n",
    "mri_registered[84]"
   ]
  },
  {
   "cell_type": "code",
   "execution_count": 60,
   "id": "5b223dc7",
   "metadata": {},
   "outputs": [
    {
     "data": {
      "text/plain": [
       "<Figure size 1080x1080 with 0 Axes>"
      ]
     },
     "metadata": {},
     "output_type": "display_data"
    }
   ],
   "source": [
    "plt.figure(figsize=(15,15))\n",
    "mri_registered = np.invert(mri_registered)\n",
    "# plt.imshow(mri_registered, cmap='gray')"
   ]
  },
  {
   "cell_type": "markdown",
   "id": "76f49e45",
   "metadata": {},
   "source": [
    "## mri_registered array  value range = frames = [0,657] ==> 658 frames (168,168)"
   ]
  },
  {
   "cell_type": "markdown",
   "id": "75bad86a",
   "metadata": {},
   "source": [
    "## Original PET/CT's frame 1 (1-658) = GZIP array index = 0 (0-657)"
   ]
  },
  {
   "cell_type": "code",
   "execution_count": 61,
   "id": "9e139335",
   "metadata": {},
   "outputs": [
    {
     "data": {
      "text/plain": [
       "<matplotlib.image.AxesImage at 0x25447c3dab0>"
      ]
     },
     "execution_count": 61,
     "metadata": {},
     "output_type": "execute_result"
    },
    {
     "data": {
      "image/png": "[encoded data removed]",
      "text/plain": [
       "<Figure size 432x288 with 2 Axes>"
      ]
     },
     "metadata": {
      "needs_background": "light"
     },
     "output_type": "display_data"
    }
   ],
   "source": [
    "plt.subplot(1,2,1)\n",
    "plt.imshow(og_pet, cmap='gray')\n",
    "plt.subplot(1,2,2)\n",
    "plt.imshow(mri_registered, cmap='gray')"
   ]
  },
  {
   "cell_type": "code",
   "execution_count": null,
   "id": "4286e791",
   "metadata": {},
   "outputs": [],
   "source": []
  },
  {
   "cell_type": "code",
   "execution_count": null,
   "id": "9d73125e",
   "metadata": {},
   "outputs": [],
   "source": []
  },
  {
   "cell_type": "code",
   "execution_count": null,
   "id": "0ae059a5",
   "metadata": {},
   "outputs": [],
   "source": []
  },
  {
   "cell_type": "code",
   "execution_count": null,
   "id": "b5cf40a1",
   "metadata": {},
   "outputs": [],
   "source": [
    "# prev_folder = None\n",
    "# prev_scan = None\n",
    "# for img_array, folder_name, scan_name in streamer.iterate_image_data(0, 1):\n",
    "    \n",
    "#     img_array = cv2.normalize(img_array, dst=None, alpha=0, beta=65535, norm_type=cv2.NORM_MINMAX)\n",
    "#     cv2.imshow('View Window',img_array)\n",
    "    \n",
    "#     if folder_name != prev_folder or prev_scan != scan_name:\n",
    "#         print(f'folder : {folder_name} | Scan : {scan_name}')\n",
    "#         prev_folder = folder_name\n",
    "#         prev_scan = scan_name\n",
    "\n",
    "#     cv2.waitKey(2)"
   ]
  }
 ],
 "metadata": {
  "kernelspec": {
   "display_name": "Python (final_proj)",
   "language": "python",
   "name": "final_proj"
  },
  "language_info": {
   "codemirror_mode": {
    "name": "ipython",
    "version": 3
   },
   "file_extension": ".py",
   "mimetype": "text/x-python",
   "name": "python",
   "nbconvert_exporter": "python",
   "pygments_lexer": "ipython3",
   "version": "3.10.4"
  }
 },
 "nbformat": 4,
 "nbformat_minor": 5
}
